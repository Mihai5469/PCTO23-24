{
  "cells": [
    {
      "cell_type": "code",
      "execution_count": null,
      "metadata": {
        "colab": {
          "base_uri": "https://localhost:8080/"
        },
        "id": "eC4lBrccmkv_",
        "outputId": "ce49875d-4956-4b34-efa7-978dd0be7381"
      },
      "outputs": [],
      "source": [
        "v = \"ciao\"\n",
        "v = 1\n",
        "v = 3.14\n",
        "print(v)\n",
        "print(type(v))"
      ]
    },
    {
      "cell_type": "code",
      "execution_count": null,
      "metadata": {
        "colab": {
          "base_uri": "https://localhost:8080/"
        },
        "id": "ItnbSBxXo4rR",
        "outputId": "52dea980-f6c8-414e-d262-5a3836de80ed"
      },
      "outputs": [],
      "source": [
        "num1 = 10\n",
        "num2 = 3\n",
        "print(\"Il resto: \",num1 % num2)"
      ]
    },
    {
      "cell_type": "code",
      "execution_count": null,
      "metadata": {
        "colab": {
          "base_uri": "https://localhost:8080/"
        },
        "id": "2SPFUi_XqkZZ",
        "outputId": "fe5bb30c-a2f8-464e-f8d1-7be60889e354"
      },
      "outputs": [],
      "source": [
        "nome = \"mario\"\n",
        "cognome = \"rossi\"\n",
        "\n",
        "nome = nome[0:1].upper() + nome[1:len(nome)]\n",
        "cognome = cognome[0:1].upper() +cognome[1:len(cognome)]\n",
        "print(nome, cognome)\n",
        "\n",
        "\n"
      ]
    },
    {
      "cell_type": "code",
      "execution_count": null,
      "metadata": {
        "colab": {
          "base_uri": "https://localhost:8080/"
        },
        "id": "ATSHP3i-0na1",
        "outputId": "008b8f91-e520-45d5-df44-cbc5fdf71cba"
      },
      "outputs": [],
      "source": [
        "nome = \"mario. \"\n",
        "cognome = \"rossi\"\n",
        "\n",
        "nome = nome.strip()\n",
        "nome = nome.rstrip(\".\")\n",
        "cognome = cognome.strip()\n",
        "nome = nome.rstrip(\".\")\n",
        "\n",
        "print(nome.capitalize(), cognome.capitalize())"
      ]
    },
    {
      "cell_type": "code",
      "execution_count": null,
      "metadata": {
        "colab": {
          "base_uri": "https://localhost:8080/"
        },
        "id": "PO4O1_0B3QNW",
        "outputId": "1e7ab4c8-484e-44e2-9545-68f52ff4b747"
      },
      "outputs": [],
      "source": [
        "frammenti = [\n",
        "    \"AA\",\n",
        "    \"CC\",\n",
        "    \"DD\",\n",
        "    \"BB\"\n",
        "]\n",
        "frammenti_ordinati = frammenti.copy()\n",
        "frammenti_ordinati.sort()\n",
        "print(frammenti)\n",
        "print(frammenti_ordinati)"
      ]
    },
    {
      "cell_type": "code",
      "execution_count": null,
      "metadata": {
        "colab": {
          "base_uri": "https://localhost:8080/"
        },
        "id": "BRPSjTgG_8vW",
        "outputId": "39b9932a-d64c-48b7-88c7-45301acb6029"
      },
      "outputs": [],
      "source": [
        "#create a tuple\n",
        "tuplex = (4, 6, 2, 8, 3, 1)\n",
        "print(tuplex)\n",
        "lista = list(tuplex)\n",
        "lista.insert(4, 55555)\n",
        "\n",
        "tuplex = tuple(lista)\n",
        "\n",
        "print(tuplex)"
      ]
    },
    {
      "cell_type": "code",
      "execution_count": null,
      "metadata": {
        "colab": {
          "base_uri": "https://localhost:8080/"
        },
        "id": "ZTJr7Z5jBdD1",
        "outputId": "1a6bfca1-f926-426d-fe9d-a05b11f4a09b"
      },
      "outputs": [],
      "source": [
        "import numpy as np\n",
        "\n",
        "arr = np.array([1, 2, 3])\n",
        "\n",
        "print(arr)"
      ]
    },
    {
      "cell_type": "code",
      "execution_count": null,
      "metadata": {
        "colab": {
          "base_uri": "https://localhost:8080/"
        },
        "id": "PXXdlGDeBzGL",
        "outputId": "005d6c05-e94e-4c9d-bca9-9e032a2178b0"
      },
      "outputs": [],
      "source": [
        "mappa = {\n",
        "    \"4-quattro\": 16,\n",
        "    \"2-due\": 4,\n",
        "    \"0-zero\": 1,\n",
        "    \"1-uno\": 2,\n",
        "    \"5-cinque\": 32,\n",
        "    \"3-tre\": 8\n",
        "}\n",
        "\n",
        "keys = list(mappa.keys())\n",
        "stringa_mappa = \",\".join(keys)\n",
        "stringa_mappa.split()\n",
        "\n",
        "print(stringa_mappa)\n",
        "\n",
        "\n",
        "print(type(keys),keys)"
      ]
    },
    {
      "cell_type": "markdown",
      "metadata": {
        "id": "op7aBXM-BflN"
      },
      "source": [
        "**APUNTI**"
      ]
    }
  ],
  "metadata": {
    "colab": {
      "provenance": []
    },
    "kernelspec": {
      "display_name": "Python 3",
      "name": "python3"
    },
    "language_info": {
      "codemirror_mode": {
        "name": "ipython",
        "version": 3
      },
      "file_extension": ".py",
      "mimetype": "text/x-python",
      "name": "python",
      "nbconvert_exporter": "python",
      "pygments_lexer": "ipython3",
      "version": "3.12.0"
    }
  },
  "nbformat": 4,
  "nbformat_minor": 0
}
