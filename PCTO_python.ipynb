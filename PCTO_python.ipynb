{
  "nbformat": 4,
  "nbformat_minor": 0,
  "metadata": {
    "colab": {
      "provenance": [],
      "authorship_tag": "ABX9TyOx0iCGKx3OxbhLYE8HiFzn",
      "include_colab_link": true
    },
    "kernelspec": {
      "name": "python3",
      "display_name": "Python 3"
    },
    "language_info": {
      "name": "python"
    }
  },
  "cells": [
    {
      "cell_type": "markdown",
      "metadata": {
        "id": "view-in-github",
        "colab_type": "text"
      },
      "source": [
        "<a href=\"https://colab.research.google.com/github/Mihai5469/PCTO23-24/blob/main/PCTO_python.ipynb\" target=\"_parent\"><img src=\"https://colab.research.google.com/assets/colab-badge.svg\" alt=\"Open In Colab\"/></a>"
      ]
    },
    {
      "cell_type": "code",
      "source": [
        "v = \"ciao\"\n",
        "v = 1\n",
        "v = 3.14\n",
        "print(v)\n",
        "print(type(v))"
      ],
      "metadata": {
        "id": "eC4lBrccmkv_",
        "colab": {
          "base_uri": "https://localhost:8080/"
        },
        "outputId": "ce49875d-4956-4b34-efa7-978dd0be7381"
      },
      "execution_count": null,
      "outputs": [
        {
          "output_type": "stream",
          "name": "stdout",
          "text": [
            "3.14\n",
            "<class 'float'>\n"
          ]
        }
      ]
    },
    {
      "cell_type": "code",
      "source": [
        "num1 = 10\n",
        "num2 = 3\n",
        "print(\"Il resto: \",num1 % num2)"
      ],
      "metadata": {
        "colab": {
          "base_uri": "https://localhost:8080/"
        },
        "id": "ItnbSBxXo4rR",
        "outputId": "52dea980-f6c8-414e-d262-5a3836de80ed"
      },
      "execution_count": null,
      "outputs": [
        {
          "output_type": "stream",
          "name": "stdout",
          "text": [
            "Il resto:  1\n"
          ]
        }
      ]
    },
    {
      "cell_type": "markdown",
      "source": [
        "Stringhe"
      ],
      "metadata": {
        "id": "bBQWbtFOdRmD"
      }
    },
    {
      "cell_type": "code",
      "source": [
        "nome = \"mario\"\n",
        "cognome = \"rossi\"\n",
        "\n",
        "nome = nome[0:1].upper() + nome[1:len(nome)]\n",
        "cognome = cognome[0:1].upper() +cognome[1:len(cognome)]\n",
        "print(nome, cognome)\n",
        "\n",
        "\n"
      ],
      "metadata": {
        "colab": {
          "base_uri": "https://localhost:8080/"
        },
        "id": "2SPFUi_XqkZZ",
        "outputId": "fe5bb30c-a2f8-464e-f8d1-7be60889e354"
      },
      "execution_count": null,
      "outputs": [
        {
          "output_type": "stream",
          "name": "stdout",
          "text": [
            "Mario Rossi\n"
          ]
        }
      ]
    },
    {
      "cell_type": "code",
      "source": [
        "nome = \"mario. \"\n",
        "cognome = \"rossi\"\n",
        "\n",
        "nome = nome.strip()\n",
        "nome = nome.rstrip(\".\")\n",
        "cognome = cognome.strip()\n",
        "nome = nome.rstrip(\".\")\n",
        "\n",
        "print(nome.capitalize(), cognome.capitalize())"
      ],
      "metadata": {
        "colab": {
          "base_uri": "https://localhost:8080/"
        },
        "id": "ATSHP3i-0na1",
        "outputId": "008b8f91-e520-45d5-df44-cbc5fdf71cba"
      },
      "execution_count": null,
      "outputs": [
        {
          "output_type": "stream",
          "name": "stdout",
          "text": [
            "Mario Rossi\n"
          ]
        }
      ]
    },
    {
      "cell_type": "markdown",
      "source": [
        "**Liste**"
      ],
      "metadata": {
        "id": "3fgBuh2adZqr"
      }
    },
    {
      "cell_type": "code",
      "source": [
        "frammenti = [\n",
        "    \"AA\",\n",
        "    \"CC\",\n",
        "    \"DD\",\n",
        "    \"BB\"\n",
        "]\n",
        "frammenti_ordinati = frammenti.copy()\n",
        "frammenti_ordinati.sort()\n",
        "print(frammenti)\n",
        "print(frammenti_ordinati)"
      ],
      "metadata": {
        "colab": {
          "base_uri": "https://localhost:8080/"
        },
        "id": "PO4O1_0B3QNW",
        "outputId": "1e7ab4c8-484e-44e2-9545-68f52ff4b747"
      },
      "execution_count": null,
      "outputs": [
        {
          "output_type": "stream",
          "name": "stdout",
          "text": [
            "['AA', 'CC', 'DD', 'BB']\n",
            "['AA', 'BB', 'CC', 'DD']\n"
          ]
        }
      ]
    },
    {
      "cell_type": "markdown",
      "source": [
        "**Tuple**"
      ],
      "metadata": {
        "id": "epslY28LddTY"
      }
    },
    {
      "cell_type": "code",
      "source": [
        "#create a tuple\n",
        "tuplex = (4, 6, 2, 8, 3, 1)\n",
        "print(tuplex)\n",
        "lista = list(tuplex)\n",
        "lista.insert(4, 55555)\n",
        "\n",
        "tuplex = tuple(lista)\n",
        "\n",
        "print(tuplex)"
      ],
      "metadata": {
        "colab": {
          "base_uri": "https://localhost:8080/"
        },
        "id": "BRPSjTgG_8vW",
        "outputId": "39b9932a-d64c-48b7-88c7-45301acb6029"
      },
      "execution_count": null,
      "outputs": [
        {
          "output_type": "stream",
          "name": "stdout",
          "text": [
            "(4, 6, 2, 8, 3, 1)\n",
            "(4, 6, 2, 8, 55555, 3, 1)\n"
          ]
        }
      ]
    },
    {
      "cell_type": "markdown",
      "source": [
        "**Array**"
      ],
      "metadata": {
        "id": "DY6Ey8fTdhC3"
      }
    },
    {
      "cell_type": "code",
      "source": [
        "import numpy as np\n",
        "\n",
        "arr = np.array([1, 2, 3])\n",
        "\n",
        "print(arr)"
      ],
      "metadata": {
        "colab": {
          "base_uri": "https://localhost:8080/"
        },
        "id": "ZTJr7Z5jBdD1",
        "outputId": "1a6bfca1-f926-426d-fe9d-a05b11f4a09b"
      },
      "execution_count": null,
      "outputs": [
        {
          "output_type": "stream",
          "name": "stdout",
          "text": [
            "[1 2 3]\n"
          ]
        }
      ]
    },
    {
      "cell_type": "markdown",
      "source": [
        "**Dizionari**"
      ],
      "metadata": {
        "id": "7oCdXEYOdj85"
      }
    },
    {
      "cell_type": "code",
      "source": [
        "mappa = {\n",
        "    \"4-quattro\": 16,\n",
        "    \"2-due\": 4,\n",
        "    \"0-zero\": 1,\n",
        "    \"1-uno\": 2,\n",
        "    \"5-cinque\": 32,\n",
        "    \"3-tre\": 8\n",
        "}\n",
        "\n",
        "keys = list(mappa.keys())\n",
        "stringa_mappa = \",\".join(keys)\n",
        "stringa_mappa.split()\n",
        "\n",
        "print(stringa_mappa)\n",
        "\n",
        "\n",
        "print(type(keys),keys)"
      ],
      "metadata": {
        "colab": {
          "base_uri": "https://localhost:8080/"
        },
        "id": "PXXdlGDeBzGL",
        "outputId": "005d6c05-e94e-4c9d-bca9-9e032a2178b0"
      },
      "execution_count": null,
      "outputs": [
        {
          "output_type": "stream",
          "name": "stdout",
          "text": [
            "4-quattro,2-due,0-zero,1-uno,5-cinque,3-tre\n",
            "<class 'list'> ['4-quattro', '2-due', '0-zero', '1-uno', '5-cinque', '3-tre']\n"
          ]
        }
      ]
    },
    {
      "cell_type": "markdown",
      "source": [
        "**Cicli**"
      ],
      "metadata": {
        "id": "fENNGhyEdoJb"
      }
    },
    {
      "cell_type": "code",
      "source": [
        "lista = [1, 25, 6, 27, 57, 12]\n",
        "max = lista[0]\n",
        "min = lista[0]\n",
        "\n",
        "for i in lista[1:]: #inizia la lista dall'elemento 1 nella lista\n",
        "  if max < i:\n",
        "    max = i\n",
        "  if min > i:\n",
        "    min = i\n",
        "\n",
        "print(\"Il massimo: \", max)\n",
        "print(\"Il minimo: \", min)\n",
        "\n",
        "\n"
      ],
      "metadata": {
        "colab": {
          "base_uri": "https://localhost:8080/"
        },
        "id": "jFC77_IPad-R",
        "outputId": "9fe12a92-381d-4c24-803e-a23027a97153"
      },
      "execution_count": null,
      "outputs": [
        {
          "output_type": "stream",
          "name": "stdout",
          "text": [
            "Il massimo:  57\n",
            "Il minimo:  1\n"
          ]
        }
      ]
    },
    {
      "cell_type": "markdown",
      "source": [
        "**Funzioni**"
      ],
      "metadata": {
        "id": "gCELr-QVfqs6"
      }
    },
    {
      "cell_type": "code",
      "source": [
        "alfanumerici = \"ABCDEFGHIJKLMNOPQRSTUVWXYZ0123456789\"\n",
        "\n",
        "# code here\n",
        "def controlla_alfanumerico(stringa):\n",
        "  for i in stringa:\n",
        "    if i.upper() not in alfanumerici:\n",
        "      return False\n",
        "\n",
        "  return True\n",
        "\n",
        "\n",
        "esito = controlla_alfanumerico(\"Cia0\")\n",
        "\n",
        "print(esito)"
      ],
      "metadata": {
        "colab": {
          "base_uri": "https://localhost:8080/"
        },
        "id": "JaBsltc3fwC7",
        "outputId": "8172cb13-b1ed-4e64-942d-b03c6f7f3453"
      },
      "execution_count": null,
      "outputs": [
        {
          "output_type": "stream",
          "name": "stdout",
          "text": [
            "True\n"
          ]
        }
      ]
    }
  ]
}